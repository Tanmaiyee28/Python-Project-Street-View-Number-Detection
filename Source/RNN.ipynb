{
  "nbformat": 4,
  "nbformat_minor": 0,
  "metadata": {
    "colab": {
      "name": "Untitled34.ipynb",
      "provenance": []
    },
    "kernelspec": {
      "name": "python3",
      "display_name": "Python 3"
    }
  },
  "cells": [
    {
      "cell_type": "code",
      "metadata": {
        "id": "EtTZwiaP4h7h"
      },
      "source": [
        "import numpy as np\r\n",
        "import matplotlib.pyplot as plt\r\n",
        "import seaborn as sns\r\n",
        "from scipy.io import loadmat\r\n",
        "from skimage import color\r\n",
        "from skimage import io\r\n",
        "from sklearn.model_selection import train_test_split\r\n",
        "\r\n",
        "%matplotlib inline\r\n",
        "plt.rcParams['figure.figsize'] = (16.0, 4.0)"
      ],
      "execution_count": null,
      "outputs": []
    },
    {
      "cell_type": "code",
      "metadata": {
        "colab": {
          "base_uri": "https://localhost:8080/"
        },
        "id": "n19d2C535JYV",
        "outputId": "9c14f224-f73b-4719-813a-3f7efd7c1801"
      },
      "source": [
        "def load_data(path):\r\n",
        "    \"\"\" Helper function for loading a MAT-File\"\"\"\r\n",
        "    data = loadmat(path)\r\n",
        "    return data['X'], data['y']\r\n",
        "\r\n",
        "X_train, y_train = load_data('train_32x32.mat')\r\n",
        "X_test, y_test = load_data('test_32x32.mat')\r\n",
        "\r\n",
        "print(\"Training Set\", X_train.shape, y_train.shape)\r\n",
        "print(\"Test Set\", X_test.shape, y_test.shape)"
      ],
      "execution_count": null,
      "outputs": [
        {
          "output_type": "stream",
          "text": [
            "Training Set (32, 32, 3, 73257) (73257, 1)\n",
            "Test Set (32, 32, 3, 26032) (26032, 1)\n"
          ],
          "name": "stdout"
        }
      ]
    },
    {
      "cell_type": "code",
      "metadata": {
        "colab": {
          "base_uri": "https://localhost:8080/"
        },
        "id": "xyhB4mtmPYDu",
        "outputId": "4ff0bc97-295f-4c8a-da20-d9f90ccf1321"
      },
      "source": [
        "# Transpose the image arrays\r\n",
        "X_train, y_train = X_train.transpose((3,0,1,2)), y_train[:,0]\r\n",
        "X_test, y_test = X_test.transpose((3,0,1,2)), y_test[:,0]\r\n",
        "\r\n",
        "print(\"Training Set\", X_train.shape)\r\n",
        "print(\"Test Set\", X_test.shape)\r\n",
        "print('')"
      ],
      "execution_count": null,
      "outputs": [
        {
          "output_type": "stream",
          "text": [
            "Training Set (73257, 32, 32, 3)\n",
            "Test Set (26032, 32, 32, 3)\n",
            "\n"
          ],
          "name": "stdout"
        }
      ]
    },
    {
      "cell_type": "code",
      "metadata": {
        "colab": {
          "base_uri": "https://localhost:8080/"
        },
        "id": "_FF_3DOEPop8",
        "outputId": "c33fac17-8931-44db-8e2c-f39dd9948727"
      },
      "source": [
        "# Calculate the total number of images\r\n",
        "num_images = X_train.shape[0] + X_test.shape[0]\r\n",
        "\r\n",
        "print(\"Total Number of Images\", num_images)\r\n",
        "\r\n",
        "#X_train = X_train[:,:,:,0]\r\n",
        "\r\n",
        "#X_test = X_test[:,:,:,0]"
      ],
      "execution_count": null,
      "outputs": [
        {
          "output_type": "stream",
          "text": [
            "Total Number of Images 89765\n"
          ],
          "name": "stdout"
        }
      ]
    },
    {
      "cell_type": "code",
      "metadata": {
        "colab": {
          "base_uri": "https://localhost:8080/",
          "height": 903
        },
        "id": "3Eb3SgLO4d9U",
        "outputId": "902522b6-725d-49cc-b263-3c3024e85b17"
      },
      "source": [
        "#RNN model\r\n",
        "from tensorflow.keras.layers import Dense, Input, GlobalMaxPooling1D\r\n",
        "from tensorflow.keras.layers import LSTM, Embedding, Bidirectional, Lambda, Concatenate\r\n",
        "from tensorflow.keras.models import Model\r\n",
        "import tensorflow.keras.backend as K\r\n",
        "\r\n",
        "D = 32\r\n",
        "M = 64\r\n",
        "\r\n",
        "input_ = Input(shape=(D, D))\r\n",
        "\r\n",
        "\r\n",
        "# up-down\r\n",
        "rnn1 = Bidirectional(LSTM(M, return_sequences=True))\r\n",
        "x1 = rnn1(input_) # output is N x D x 2M\r\n",
        "#x1 = Bidirectional(LSTM(M, return_sequences=True))(input_)\r\n",
        "\r\n",
        "x1 = GlobalMaxPooling1D()(x1) # output is N x 2M\r\n",
        "\r\n",
        "rnn2 = Bidirectional(LSTM(M, return_sequences=True))\r\n",
        "\r\n",
        "\r\n",
        "# custom layer\r\n",
        "permutor = Lambda(lambda t: K.permute_dimensions(t, pattern=(0, 2, 1)))\r\n",
        "x2 = permutor(input_)\r\n",
        "x2 = rnn2(x2) # output is N x D x 2M\r\n",
        "x2 = GlobalMaxPooling1D()(x2) # output is N x 2M\r\n",
        "\r\n",
        "\r\n",
        "# put them together\r\n",
        "concatenator = Concatenate(axis=1)\r\n",
        "x = concatenator([x1, x2]) # output is N x 4M\r\n",
        "\r\n",
        "\r\n",
        "# final dense layer\r\n",
        "output = Dense(10, activation='softmax')(x1)\r\n",
        "\r\n",
        "model = Model(inputs=input_, outputs=output)\r\n",
        "\r\n",
        "model.summary()\r\n",
        "\r\n",
        "# compile\r\n",
        "model.compile(\r\n",
        "  loss='sparse_categorical_crossentropy',\r\n",
        "  optimizer='adam',\r\n",
        "  metrics=['accuracy']\r\n",
        ")\r\n",
        "\r\n",
        "\r\n",
        "\r\n",
        "# Fit the model\r\n",
        "r = model.fit(X_train, y_train, batch_size=1024, epochs=10,  validation_split=0.25)\r\n",
        "\r\n",
        "\r\n",
        "## Plot loss per iteration\r\n",
        "import matplotlib.pyplot as plt\r\n",
        "plt.plot(r.history['loss'], label='loss')\r\n",
        "plt.plot(r.history['val_loss'], label='val_loss')\r\n",
        "plt.grid(True)\r\n",
        "plt.legend()\r\n",
        "\r\n",
        "\r\n",
        "# Plot accuracy per iteration\r\n",
        "plt.plot(r.history['accuracy'], label='acc')\r\n",
        "plt.plot(r.history['val_accuracy'], label='val_acc')\r\n",
        "plt.grid(True)\r\n",
        "plt.legend()\r\n",
        "\r\n",
        "print(model.evaluate(X_test, y_test))"
      ],
      "execution_count": null,
      "outputs": [
        {
          "output_type": "stream",
          "text": [
            "Model: \"functional_7\"\n",
            "_________________________________________________________________\n",
            "Layer (type)                 Output Shape              Param #   \n",
            "=================================================================\n",
            "input_4 (InputLayer)         [(None, 32, 32)]          0         \n",
            "_________________________________________________________________\n",
            "bidirectional_4 (Bidirection (None, 32, 128)           49664     \n",
            "_________________________________________________________________\n",
            "global_max_pooling1d_4 (Glob (None, 128)               0         \n",
            "_________________________________________________________________\n",
            "dense_3 (Dense)              (None, 10)                1290      \n",
            "=================================================================\n",
            "Total params: 50,954\n",
            "Trainable params: 50,954\n",
            "Non-trainable params: 0\n",
            "_________________________________________________________________\n",
            "Epoch 1/10\n",
            "47/47 [==============================] - 21s 455ms/step - loss: 2.2365 - accuracy: 0.1958 - val_loss: 2.1993 - val_accuracy: 0.2094\n",
            "Epoch 2/10\n",
            "47/47 [==============================] - 21s 437ms/step - loss: 2.1813 - accuracy: 0.2209 - val_loss: 2.1632 - val_accuracy: 0.2254\n",
            "Epoch 3/10\n",
            "47/47 [==============================] - 21s 439ms/step - loss: 2.1411 - accuracy: 0.2361 - val_loss: 2.1284 - val_accuracy: 0.2458\n",
            "Epoch 4/10\n",
            "47/47 [==============================] - 21s 438ms/step - loss: 2.1022 - accuracy: 0.2541 - val_loss: 2.0881 - val_accuracy: 0.2604\n",
            "Epoch 5/10\n",
            "47/47 [==============================] - 21s 441ms/step - loss: 2.0640 - accuracy: 0.2745 - val_loss: 2.0476 - val_accuracy: 0.2760\n",
            "Epoch 6/10\n",
            "47/47 [==============================] - 21s 439ms/step - loss: 2.0261 - accuracy: 0.2941 - val_loss: 2.0179 - val_accuracy: 0.2911\n",
            "Epoch 7/10\n",
            "47/47 [==============================] - 21s 447ms/step - loss: 1.9882 - accuracy: 0.3088 - val_loss: 1.9832 - val_accuracy: 0.3125\n",
            "Epoch 8/10\n",
            "47/47 [==============================] - 21s 442ms/step - loss: 1.9577 - accuracy: 0.3225 - val_loss: 1.9544 - val_accuracy: 0.3223\n",
            "Epoch 9/10\n",
            "47/47 [==============================] - 20s 435ms/step - loss: 1.9340 - accuracy: 0.3294 - val_loss: 1.9387 - val_accuracy: 0.3217\n",
            "Epoch 10/10\n",
            "47/47 [==============================] - 21s 438ms/step - loss: 1.9036 - accuracy: 0.3448 - val_loss: 1.8963 - val_accuracy: 0.3417\n",
            "814/814 [==============================] - 7s 9ms/step - loss: 1.8848 - accuracy: 0.3497\n",
            "[1.8848038911819458, 0.34968501329421997]\n"
          ],
          "name": "stdout"
        },
        {
          "output_type": "display_data",
          "data": {
            "image/png": "[encoded data removed]",
            "text/plain": [
              "<Figure size 1152x288 with 1 Axes>"
            ]
          },
          "metadata": {
            "tags": [],
            "needs_background": "light"
          }
        }
      ]
    }
  ]
}